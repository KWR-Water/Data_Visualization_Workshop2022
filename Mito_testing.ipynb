{
 "cells": [
  {
   "cell_type": "code",
   "execution_count": 4,
   "id": "0987aefb-7e12-4f74-9272-bba4d33c6c24",
   "metadata": {},
   "outputs": [],
   "source": [
    "# !python -m pip install mitoinstaller\n",
    "# !python -m mitoinstaller install"
   ]
  },
  {
   "cell_type": "code",
   "execution_count": 1,
   "id": "d58f96e5",
   "metadata": {},
   "outputs": [],
   "source": [
    "import mitosheet as mts"
   ]
  },
  {
   "cell_type": "code",
   "execution_count": 21,
   "id": "8c4f0a23-7d20-4280-85a5-668a9767cd21",
   "metadata": {},
   "outputs": [
    {
     "data": {
      "text/plain": [
       "'0.3.153'"
      ]
     },
     "execution_count": 21,
     "metadata": {},
     "output_type": "execute_result"
    }
   ],
   "source": [
    "mts.__version__"
   ]
  },
  {
   "cell_type": "code",
   "execution_count": 2,
   "id": "80cc34f8",
   "metadata": {},
   "outputs": [
    {
     "data": {
      "application/vnd.jupyter.widget-view+json": {
       "model_id": "f2cdedd81be5439691417e3409005632",
       "version_major": 2,
       "version_minor": 0
      },
      "text/plain": [
       "MitoWidget(analysis_data_json='{\"analysisName\": \"UUID-e726b4c2-a5b4-44b8-b52a-564a69e5302b\", \"code\": {\"imports…"
      ]
     },
     "metadata": {},
     "output_type": "display_data"
    }
   ],
   "source": [
    "mts.sheet()"
   ]
  },
  {
   "cell_type": "code",
   "execution_count": 17,
   "id": "d087c1b4",
   "metadata": {},
   "outputs": [],
   "source": [
    "from mitosheet import *; register_analysis('UUID-e726b4c2-a5b4-44b8-b52a-564a69e5302b')\n",
    "\n",
    "# Imported knmi_deBilt.xlsx\n",
    "import pandas as pd\n",
    "sheet_df_dictonary = pd.read_excel('knmi_deBilt.xlsx', sheet_name=['precipitation'], skiprows=0)\n",
    "precipitation = sheet_df_dictonary['precipitation']\n",
    "\n",
    "# Changed Daily precipitation amount (in 0.1 mm) (-1 for <0.05 mm) from object to float\n",
    "precipitation['Daily precipitation amount (in 0.1 mm) (-1 for <0.05 mm)'] = to_number_series(precipitation['Daily precipitation amount (in 0.1 mm) (-1 for <0.05 mm)'])\n",
    "\n",
    "# Filtered Daily precipitation amount (in 0.1 mm) (-1 for <0.05 mm) in precipitation\n",
    "precipitation = precipitation[precipitation['Daily precipitation amount (in 0.1 mm) (-1 for <0.05 mm)'] > 500]\n"
   ]
  },
  {
   "cell_type": "code",
   "execution_count": 18,
   "id": "174b9353-3b64-4079-a267-fae088f0b4b9",
   "metadata": {},
   "outputs": [
    {
     "data": {
      "text/html": [
       "<iframe\n",
       "    scrolling=\"no\"\n",
       "    width=\"100%\"\n",
       "    height=\"545px\"\n",
       "    src=\"iframe_figures/figure_18.html\"\n",
       "    frameborder=\"0\"\n",
       "    allowfullscreen\n",
       "></iframe>\n"
      ]
     },
     "metadata": {},
     "output_type": "display_data"
    }
   ],
   "source": [
    "# Import plotly and create a figure\n",
    "import plotly.graph_objects as go\n",
    "fig = go.Figure()\n",
    "\n",
    "\n",
    "# Filter the dataframe so that it doesn't crash the browser with too much data\n",
    "from mitosheet import filter_df_to_safe_size\n",
    "precipitation_filtered, _ = filter_df_to_safe_size('scatter', precipitation, ['Daily precipitation amount (in 0.1 mm) (-1 for <0.05 mm)', 'Precipitation duration (in 0.1 hour)'])\n",
    "\n",
    "\n",
    "# Add the scatter traces to the figure\n",
    "for column_header in ['Daily precipitation amount (in 0.1 mm) (-1 for <0.05 mm)']:\n",
    "    fig.add_trace(go.Scatter(\n",
    "        x=precipitation_filtered[column_header],\n",
    "        y=precipitation_filtered['Precipitation duration (in 0.1 hour)'],\n",
    "        mode='markers',\n",
    "        name=str(column_header)\n",
    "    ))\n",
    "\n",
    "# Update the layout\n",
    "# See Plotly documentation for cutomizations: https://plotly.com/python/reference/scatter/\n",
    "fig.update_layout(\n",
    "    xaxis_title=\"Daily precipitation amount (in 0.1 mm) (-1 for <0.05 mm)\",\n",
    "    yaxis_title=\"Precipitation duration (in 0.1 hour)\",\n",
    "    title=\"Daily precipitation amount (in 0.1 mm) (-1 for <0.05 mm), Precipitation duration (in 0.1 hour) (first 10k) scatter plot\",\n",
    ")\n",
    "fig.show(renderer=\"iframe\")"
   ]
  }
 ],
 "metadata": {
  "kernelspec": {
   "display_name": "mito",
   "language": "python",
   "name": "mito"
  },
  "language_info": {
   "codemirror_mode": {
    "name": "ipython",
    "version": 3
   },
   "file_extension": ".py",
   "mimetype": "text/x-python",
   "name": "python",
   "nbconvert_exporter": "python",
   "pygments_lexer": "ipython3",
   "version": "3.9.7"
  },
  "toc": {
   "base_numbering": 1,
   "nav_menu": {},
   "number_sections": true,
   "sideBar": true,
   "skip_h1_title": false,
   "title_cell": "Table of Contents",
   "title_sidebar": "Contents",
   "toc_cell": false,
   "toc_position": {},
   "toc_section_display": true,
   "toc_window_display": false
  },
  "varInspector": {
   "cols": {
    "lenName": 16,
    "lenType": 16,
    "lenVar": 40
   },
   "kernels_config": {
    "python": {
     "delete_cmd_postfix": "",
     "delete_cmd_prefix": "del ",
     "library": "var_list.py",
     "varRefreshCmd": "print(var_dic_list())"
    },
    "r": {
     "delete_cmd_postfix": ") ",
     "delete_cmd_prefix": "rm(",
     "library": "var_list.r",
     "varRefreshCmd": "cat(var_dic_list()) "
    }
   },
   "types_to_exclude": [
    "module",
    "function",
    "builtin_function_or_method",
    "instance",
    "_Feature"
   ],
   "window_display": false
  }
 },
 "nbformat": 4,
 "nbformat_minor": 5
}
