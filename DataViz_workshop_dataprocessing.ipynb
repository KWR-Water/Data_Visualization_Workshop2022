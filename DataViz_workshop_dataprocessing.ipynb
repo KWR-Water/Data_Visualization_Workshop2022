{
 "cells": [
  {
   "cell_type": "markdown",
   "id": "32c445f9-10b5-4460-912a-7e6de4d232a8",
   "metadata": {},
   "source": [
    "# Example code for dataviz workshop, Jun 2022\n",
    "### x tian, kwr; xin.tian@kwrwater.nl\n",
    "### data sourced: knmi's open data center\n",
    "### data loading lib: mito\n",
    "### data visualization lib: plotly "
   ]
  },
  {
   "cell_type": "markdown",
   "id": "ae13c91f-887b-4261-94ed-9f2e9a38daf6",
   "metadata": {},
   "source": [
    "## install mito and plotly in advance\n",
    "### !python -m pip install mitoinstaller\n",
    "### !python -m mitoinstaller install\n",
    "### pip install plotly==5.8.0"
   ]
  },
  {
   "cell_type": "code",
   "execution_count": 2,
   "id": "ad195bfb-6374-49c4-9aa5-a67a1517f522",
   "metadata": {},
   "outputs": [],
   "source": [
    "import mitosheet as mts"
   ]
  },
  {
   "cell_type": "code",
   "execution_count": 3,
   "id": "8c4f0a23-7d20-4280-85a5-668a9767cd21",
   "metadata": {},
   "outputs": [
    {
     "data": {
      "application/vnd.jupyter.widget-view+json": {
       "model_id": "1d137f4df40141bda40a4b0670da424b",
       "version_major": 2,
       "version_minor": 0
      },
      "text/plain": [
       "MitoWidget(analysis_data_json='{\"analysisName\": \"UUID-46795439-875b-4e94-b9f7-1ca978fb25f4\", \"code\": {\"imports…"
      ]
     },
     "metadata": {},
     "output_type": "display_data"
    }
   ],
   "source": [
    "# use mitosheet to load data\n",
    "mts.sheet()"
   ]
  },
  {
   "cell_type": "code",
   "execution_count": null,
   "id": "77b73a3c-257f-4f35-bebf-95b39b49b8f2",
   "metadata": {},
   "outputs": [],
   "source": [
    "from mitosheet import *; register_analysis('UUID-46795439-875b-4e94-b9f7-1ca978fb25f4')\n",
    "\n",
    "# Imported knmi_deBilt.xlsx\n",
    "import pandas as pd\n",
    "sheet_df_dictonary = pd.read_excel('knmi_deBilt.xlsx', sheet_name=['precipitation'], skiprows=0)\n",
    "precipitation = sheet_df_dictonary['precipitation']\n",
    "\n",
    "# Filtered Precipitation duration (hour) in precipitation\n",
    "precipitation = precipitation[precipitation['Precipitation duration (hour)'] > 0]\n",
    "\n",
    "# Filtered Daily precipitation (mm) in precipitation\n",
    "precipitation = precipitation[precipitation['Daily precipitation (mm)'] > 0]\n",
    "\n",
    "# Filtered Maximum hourly precipitation (mm) in precipitation\n",
    "precipitation = precipitation[precipitation['Maximum hourly precipitation (mm)'] > 0]\n",
    "\n",
    "# Reordered # STN in precipitation\n",
    "precipitation_columns = [col for col in precipitation.columns if col != '# STN']\n",
    "precipitation_columns.insert(0, '# STN')\n",
    "precipitation = precipitation[precipitation_columns]\n",
    "\n",
    "# Deleted column # STN from precipitation\n",
    "precipitation.drop(['# STN'], axis=1, inplace=True)\n",
    "\n",
    "# Reordered YYYYMMDD in precipitation\n",
    "precipitation_columns = [col for col in precipitation.columns if col != 'YYYYMMDD']\n",
    "precipitation_columns.insert(0, 'YYYYMMDD')\n",
    "precipitation = precipitation[precipitation_columns]\n",
    "\n"
   ]
  }
 ],
 "metadata": {
  "kernelspec": {
   "display_name": "mito",
   "language": "python",
   "name": "mito"
  },
  "language_info": {
   "codemirror_mode": {
    "name": "ipython",
    "version": 3
   },
   "file_extension": ".py",
   "mimetype": "text/x-python",
   "name": "python",
   "nbconvert_exporter": "python",
   "pygments_lexer": "ipython3",
   "version": "3.9.7"
  },
  "toc": {
   "base_numbering": 1,
   "nav_menu": {},
   "number_sections": true,
   "sideBar": true,
   "skip_h1_title": false,
   "title_cell": "Table of Contents",
   "title_sidebar": "Contents",
   "toc_cell": false,
   "toc_position": {},
   "toc_section_display": true,
   "toc_window_display": false
  },
  "varInspector": {
   "cols": {
    "lenName": 16,
    "lenType": 16,
    "lenVar": 40
   },
   "kernels_config": {
    "python": {
     "delete_cmd_postfix": "",
     "delete_cmd_prefix": "del ",
     "library": "var_list.py",
     "varRefreshCmd": "print(var_dic_list())"
    },
    "r": {
     "delete_cmd_postfix": ") ",
     "delete_cmd_prefix": "rm(",
     "library": "var_list.r",
     "varRefreshCmd": "cat(var_dic_list()) "
    }
   },
   "types_to_exclude": [
    "module",
    "function",
    "builtin_function_or_method",
    "instance",
    "_Feature"
   ],
   "window_display": false
  }
 },
 "nbformat": 4,
 "nbformat_minor": 5
}
